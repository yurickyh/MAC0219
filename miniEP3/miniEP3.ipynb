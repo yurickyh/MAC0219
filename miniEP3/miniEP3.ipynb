{
 "cells": [
  {
   "cell_type": "markdown",
   "metadata": {},
   "source": [
    "# MiniEP3 - Aproximação de Integrais usando Médias e Amostragem Uniforme, com a biblioteca *pthreads*\n",
    "\n",
    "## Entrega do miniEP3\n",
    "\n",
    "Preencha o nome dos 5 membros do seu grupo na tabela abaixo:\n",
    "\n",
    "|                Nome              |   NUSP   |\n",
    "|----------------------------------|----------|\n",
    "| Eduardo Freire de Carvalho Lima  | 10262627 |\n",
    "| Kaique Kazuyoshi Komata          | 10297741 |\n",
    "| Lucas Civile Nagamine            |  7083142 |\n",
    "| Victor Hugo Miranda Pinto        | 10297720 |\n",
    "| Yurick Yussuke Honda             | 10258984 |\n",
    "\n",
    "**Apenas um dos membros** deverá entregar um **arquivo .tar**, até o dia **29 de Abril**, com:\n",
    "\n",
    "1. **Este arquivo** `.ipynb`, com as soluções do miniEP3 **feitas pelo grupo**\n",
    "    \n",
    "    - Os gráficos e análises devem poder ser produzidos\n",
    "    \n",
    "    \n",
    "2. O **código C escrito** (arquivo `monte_carlo.c`)\n",
    "\n",
    "    - Deve compilar e executar **sem erros**\n",
    "    \n",
    "    \n",
    "    \n",
    "3. Os arquivos `Makefile`, e `Project.toml`\n",
    "4. Um **arquivo .csv** com os resultados das medições feitas neste miniEP\n",
    "\n",
    "    - Entregue os dados de cada repetição, sem processamento (não calcule a média e CI)\n",
    "\n",
    "## Configuração do Ambiente\n",
    "\n",
    "Como no miniEP1&2, a primeira tarefa é instalar e configurar o ambiente.\n",
    "\n",
    "### Compilador C\n",
    "\n",
    "Neste miniEP também vamos usar a linguagem C e a biblioteca *pthreads*. Vocês vão precisar de acesso a um sistema Linux com o compilador GCC e a biblioteca *pthreads*. Caso não consiga instalar o GCC ou tenha dificuldades para acessar um sistema Linux, entre em contato pelo fórum do *Edisciplinas*.\n",
    "\n",
    "### Julia, Jupyter, IJulia\n",
    "\n",
    "Pule essa etapa se já configurou o ambiente Julia no miniEP1&2.\n",
    "Para fazer o miniEP, vocês vão precisar:\n",
    "\n",
    "- [Instalar o Jupyter Notebook](https://jupyter.readthedocs.io/en/latest/install.html)\n",
    "- Instalar Julia 1.3:\n",
    "    - [Baixando o binário](https://julialang.org/downloads/)\n",
    "    - **ou** [usando seu gerenciador de pacotes](https://julialang.org/downloads/platform/)\n",
    "- Instalar o pacote *IJulia*:\n",
    "    - Inicie o interpretador Julia\n",
    "    - Digite `] add IJulia` e pressione `<ENTER>`\n",
    "    \n",
    "Depois disso, vocês vão conseguir iniciar o arquivo `.ipynb` do miniEP.\n",
    "\n",
    "### Pacotes Julia para o miniEP\n",
    "\n",
    "Os pacotes necessários para o miniEP estão listados no arquivo `Project.toml`, mas vocês podem instalar e atualizar os pacotes rodando a célula abaixo:"
   ]
  },
  {
   "cell_type": "code",
   "execution_count": 1,
   "metadata": {
    "scrolled": true
   },
   "outputs": [
    {
     "name": "stderr",
     "output_type": "stream",
     "text": [
      "\u001b[32m\u001b[1m   Updating\u001b[22m\u001b[39m registry at `~/.julia/registries/General`\n"
     ]
    },
    {
     "name": "stdout",
     "output_type": "stream",
     "text": [
      "\u001b[?25l\u001b[2K"
     ]
    },
    {
     "name": "stderr",
     "output_type": "stream",
     "text": [
      "\u001b[32m\u001b[1m   Updating\u001b[22m\u001b[39m git-repo `https://github.com/JuliaRegistries/General.git`\n"
     ]
    },
    {
     "name": "stdout",
     "output_type": "stream",
     "text": [
      "\u001b[?25h"
     ]
    },
    {
     "name": "stderr",
     "output_type": "stream",
     "text": [
      "\u001b[32m\u001b[1m   Updating\u001b[22m\u001b[39m `~/MAC0219/miniEP3/Project.toml`\n",
      "\u001b[90m [no changes]\u001b[39m\n",
      "\u001b[32m\u001b[1m   Updating\u001b[22m\u001b[39m `~/MAC0219/miniEP3/Manifest.toml`\n",
      "\u001b[90m [no changes]\u001b[39m\n"
     ]
    }
   ],
   "source": [
    "] up"
   ]
  },
  {
   "cell_type": "markdown",
   "metadata": {},
   "source": [
    "Verifique o status dos pacotes, e se há algum problema, com o comando:"
   ]
  },
  {
   "cell_type": "code",
   "execution_count": 2,
   "metadata": {},
   "outputs": [
    {
     "name": "stdout",
     "output_type": "stream",
     "text": [
      "\u001b[32m\u001b[1mStatus\u001b[22m\u001b[39m `~/MAC0219/miniEP3/Project.toml`\n",
      " \u001b[90m [336ed68f]\u001b[39m\u001b[37m CSV v0.6.1\u001b[39m\n",
      " \u001b[90m [a93c6f00]\u001b[39m\u001b[37m DataFrames v0.20.2\u001b[39m\n",
      " \u001b[90m [31c24e10]\u001b[39m\u001b[37m Distributions v0.23.2\u001b[39m\n",
      " \u001b[90m [7073ff75]\u001b[39m\u001b[37m IJulia v1.21.2\u001b[39m\n",
      " \u001b[90m [8314cec4]\u001b[39m\u001b[37m PGFPlotsX v1.2.6\u001b[39m\n",
      " \u001b[90m [1a8c2f83]\u001b[39m\u001b[37m Query v0.12.2\u001b[39m\n",
      " \u001b[90m [f3b207a7]\u001b[39m\u001b[37m StatsPlots v0.14.5\u001b[39m\n"
     ]
    }
   ],
   "source": [
    "] st"
   ]
  },
  {
   "cell_type": "markdown",
   "metadata": {},
   "source": [
    "## Integração por Método de Monte Carlo\n",
    "\n",
    "O objetivo deste miniEP é promover o estudo de programação paralela usando a biblioteca *pthreads*. Vamos utilizar uma versão sequencial em C do código em Julia do miniEP1&2. A tarefa deste miniEP será completar a implementação em C, escrever um programa paralelo usando a biblioteca *pthreads*, e analisar o desempenho do programa escrito com diferentes números de threads.\n",
    "\n",
    "Lembrando o que vimos no miniEP1&2, a intuição por trás do método de Monte Carlo é que a integral de uma função $f$ pode ser estimada pela média do valor de $f$ num conjunto suficientemente grande de pontos obtidos a partir de uma distribuição uniforme. Mais formalmente, para um conjunto de pontos $x_1,\\dots,x_N$ uniformemente amostrados num intervalo $[a,b]$, a integral de $f$ no intervalo $[a,b]$ pode ser aproximada por:\n",
    "\n",
    "$$\n",
    "\\int_{a}^{b} f(x)dx \\approx \\mathbb{E}\\left[\\left(b - a\\right)\\dfrac{1}{N}\\sum\\limits_{i = 1}^{N}{f(x_i)}\\right] \n",
    "$$\n",
    "\n",
    "Para uma representação gráfica da intuição, e para a prova dessa aproximação, veja [esta página](https://www.scratchapixel.com/lessons/mathematics-physics-for-computer-graphics/monte-carlo-methods-in-practice/monte-carlo-integration).\n",
    "\n",
    "A Integração por Método de Monte Carlo é um problema [embaraçosamente paralelo](https://en.wikipedia.org/wiki/Embarrassingly_parallel), isto é, podemos executar todas as iterações envolvidas **em paralelo**, sem nos preocupar com conflitos de acesso à memória. Apesar disso, vamos ver neste miniEP que não basta apenas aumentar a quantidade de recursos computacionais para ganhar desempenho.\n",
    "\n",
    "### Função Alvo\n",
    "\n",
    "Vamos estimar a integral da seguinte função:\n",
    "\n",
    "$$\n",
    "f_1(x) = \\dfrac{2}{\\sqrt{1 - x ^ 2}}\n",
    "$$\n",
    "\n",
    "A integral da função $f_1$, é [dada por](https://en.wikipedia.org/wiki/List_of_definite_integrals#Definite_integrals_involving_rational_or_irrational_expressions):\n",
    "\n",
    "$$\n",
    "\\int_{0}^{1}{f_1(x)dx} = \\int_{0}^{1}{\\dfrac{2}{\\sqrt{1 - x ^ 2}}dx} = \\pi\n",
    "$$\n",
    "\n",
    "## Exercício 1: Implementação Sequencial em C\n",
    "\n",
    "Lembre-se do código em Julia:"
   ]
  },
  {
   "cell_type": "code",
   "execution_count": 3,
   "metadata": {},
   "outputs": [
    {
     "data": {
      "text/plain": [
       "monte_carlo_integrate (generic function with 2 methods)"
      ]
     },
     "execution_count": 3,
     "metadata": {},
     "output_type": "execute_result"
    }
   ],
   "source": [
    "using Distributions\n",
    "\n",
    "function monte_carlo_integrate(f, interval, samples = 100)\n",
    "    xs = rand(Uniform(interval[1], interval[2]), samples)\n",
    "    \n",
    "    # Using for loops:\n",
    "    # accumulator = 0\n",
    "    #\n",
    "    # for x in xs\n",
    "    #     accumulator += f(x)\n",
    "    # end\n",
    "    #\n",
    "    # return accumulator / samples\n",
    "    \n",
    "    # Using vectorized function application:\n",
    "    return sum(f.(xs)) / samples\n",
    "end"
   ]
  },
  {
   "cell_type": "markdown",
   "metadata": {},
   "source": [
    "O primeiro exercício consiste em completar a implementação sequencial em C, fornecida no arquivo `monte_carlo.c`. Baseiem-se na versão Julia, e usem seus editores de código preferidos para modificar e escrever código em C. Se vocês ainda não têm preferência de editor de código, procurem experimentar editores como o Emacs e o Vim. São programas antigos e com uma curva de aprendizado um pouco íngreme, mas são muito poderosos e os esforços se pagam com juros. Esta pode ser uma chance de aprender a usá-los.\n",
    "\n",
    "Vocês devem escrever a função de assinatura:\n",
    "\n",
    "```C\n",
    "long double monte_carlo_integrate(long double (*f)(long double), long double *samples, int size)\n",
    "```\n",
    "\n",
    "Na assinatura acima, o parâmetro `f` é um ponteiro para uma função que recebe um `long double` e devolve um `long double`, `samples` é um ponteiro para um vetor de `long double` onde vamos guardar os valores de `f` que queremos avaliar, e `size` é o tamanho de `samples`.\n",
    "\n",
    "A primeira parte do exercício é ler e compreender o funcionamento do código em C fornecido no enunciado. É um exercício interessante para ver como uma linguagem de alto nível, como Julia, abstrai camadas conceituais e facilita a prototipagem de código complexo ao custo de esconder detalhes de implementação.\n",
    "\n",
    "### Exercício 1a)"
   ]
  },
  {
   "cell_type": "markdown",
   "metadata": {},
   "source": [
    "Vocês podem compilar e executar o programa `monte_carlo.c` através deste notebook acessando o *modo shell* do interpretador Julia com a tecla `;`:"
   ]
  },
  {
   "cell_type": "code",
   "execution_count": 4,
   "metadata": {},
   "outputs": [
    {
     "name": "stdout",
     "output_type": "stream",
     "text": [
      "gcc monte_carlo.c -o monte_carlo -Wall -lpthread -lm -DDEBUG=1\n"
     ]
    }
   ],
   "source": [
    "; make debug"
   ]
  },
  {
   "cell_type": "markdown",
   "metadata": {},
   "source": [
    "Depois, podemos rodar o programa compilado com:"
   ]
  },
  {
   "cell_type": "code",
   "execution_count": 5,
   "metadata": {},
   "outputs": [
    {
     "name": "stdout",
     "output_type": "stream",
     "text": [
      "usage: ./monte_carlo SAMPLES FUNCTION_ID N_THREADS\n"
     ]
    }
   ],
   "source": [
    "; ./monte_carlo"
   ]
  },
  {
   "cell_type": "markdown",
   "metadata": {},
   "source": [
    "Seguindo as instruções de uso, temos:"
   ]
  },
  {
   "cell_type": "code",
   "execution_count": 6,
   "metadata": {},
   "outputs": [
    {
     "name": "stdout",
     "output_type": "stream",
     "text": [
      "Running on: [debug mode]\n",
      "Samples: [10000000]\n",
      "Function id: [0]\n",
      "Threads: [1]\n",
      "Array size on memory: [0.16GB]\n",
      "Running sequential version\n",
      "3.1423468697224127, [0.091937, clock], [0.092772, clock_gettime], [0.092766, gettimeofday]\n"
     ]
    }
   ],
   "source": [
    "; ./monte_carlo 10000000 0 1"
   ]
  },
  {
   "cell_type": "markdown",
   "metadata": {},
   "source": [
    "Como compilamos no modo *debug*, veremos muitas mensagens extras, que coloquei no programa pra ajudar na implementação. Para compilar no modo normal, use o comando `make` sem argumentos. Note que o programa ainda não faz nada além de alocar memória, e que isso já leva algum tempo.\n",
    "\n",
    "Note que escolhi deixar a alocação de memória e o cálculo das amostra a avaliar fora da função `monte_carlo_integrate` na versão C. A geração das amostras aleatórias foi feita com a função `rand()` e com uma função que mapeia um intervalo a outro.\n",
    "\n",
    "\n",
    "Descreva abaixo como o tempo de execução é calculado e impresso pelo programa `monte_carlo`. Por que vocês acham que eu escolhi colocar as medições de tempo onde coloquei?"
   ]
  },
  {
   "cell_type": "markdown",
   "metadata": {},
   "source": [
    "O tempo de execução é calculado e impresso por meio dos seguintes passos:\n",
    "\n",
    "1. Atribui-se à variável *start* (do tipo *clock_t*) o valor retornado pela chamada da função *clock()* (que retorna a quantidade de clock ticks passados desde o início da execução do programa);\n",
    "\n",
    "1. Executa-se a função desejada: *monte_carlo_integrate()* ou *monte_carlo_integrate_thread()*;\n",
    "\n",
    "1. Ao fim da execução da função alvo, atribui-se à variável *end* (também do tipo *clock_t*) o valor retornado pela chamada da função *clock()*;\n",
    "\n",
    "1. Calcula-se o número de clock ticks passados entre o início e o fim da execução da função desejada por meio da diferença $end - start$;\n",
    "\n",
    "1. Obtém-se o tempo transcorrido por meio do quociente da diferença supracitada pela constante *CLOCKS_PER_SEC*, que indica a quantidade de clock ticks por segundo. Dessa divisão, resulta o tempo transcorrido em segundos (armazenado na variável *time_taken*, do tipo *double*);\n",
    "\n",
    "1. O *time_taken* obtido é impresso por meio da função *printf()*.\n",
    "\n",
    "As medições de tempo foram colocadas nesses locais porque nosso objetivo é justamente medir e avaliar o tempo gasto na execução das funções *monte_carlo_integrate()* e *monte_carlo_integrate_thread()*, chamando-as com diferentes tamanhos para *size* e (somente na segunda função) *threads*. Portanto, não é útil incluir no cálculo do tempo transcorrido a execução de outros trechos, como alocação de memória e impressões para a saída. Assim, para se obter maior precisão e manter o escopo do cálculo de tempo à execução das funções alvo, as medições são feitas imediatamente antes e imediatamente depois da execução dessa funções (e, no caso de *monte_carlo_integrate_thread()*, inclui-se também o tempo gasto com a implementação da estrutura de suporte à execução das threads)."
   ]
  },
  {
   "cell_type": "markdown",
   "metadata": {},
   "source": [
    "### Exercício 1b)\n",
    "\n",
    "Agora, a sua tarefa é implementar a função `monte_carlo_integrate`.\n",
    "\n",
    "Quando terminar, rode as células abaixo. A saída deve conter a estimativa para o valor de $\\pi$ e o tempo de execução, produzidos pelo programa `monte_carlo`. Escolha um número de amostras adequado à quantidade de memória disponível em seu computador.\n",
    "\n",
    "Lembre-se de **entregar também o arquivo .c** com suas modificações."
   ]
  },
  {
   "cell_type": "code",
   "execution_count": 7,
   "metadata": {
    "scrolled": true
   },
   "outputs": [
    {
     "name": "stdout",
     "output_type": "stream",
     "text": [
      "gcc monte_carlo.c -o monte_carlo -Wall -lpthread -lm -DDEBUG=1\n"
     ]
    }
   ],
   "source": [
    "; make debug"
   ]
  },
  {
   "cell_type": "code",
   "execution_count": 8,
   "metadata": {
    "scrolled": true
   },
   "outputs": [
    {
     "name": "stdout",
     "output_type": "stream",
     "text": [
      "Running on: [debug mode]\n",
      "Samples: [100000000]\n",
      "Function id: [0]\n",
      "Threads: [1]\n",
      "Array size on memory: [1.60GB]\n",
      "Running sequential version\n",
      "3.1423166233814686, [0.862712, clock], [0.867999, clock_gettime], [0.867993, gettimeofday]\n"
     ]
    }
   ],
   "source": [
    "; ./monte_carlo 100000000 0 1"
   ]
  },
  {
   "cell_type": "markdown",
   "metadata": {},
   "source": [
    "## Exercício 2: Implementação Paralela com *pthreads*\n",
    "\n",
    "Este exercício é mais complexo. Vocês devem escrever a função de assinatura:\n",
    "\n",
    "```C\n",
    "void *monte_carlo_integrate_thread(void *args)\n",
    "```\n",
    "\n",
    "Na assinatura acima, o parâmetro `args` é um ponteiro para uma estrutura de dados contendo dados para cada thread. Para implementar essa estrutura de dados, vocês devem decidir quais informações cada thread deve receber. Algumas ideias:\n",
    "\n",
    "- Um ponteiro para a função a ser avaliada\n",
    "- Um ponteiro para o vetor de amostras gerado\n",
    "- Um inteiro com o id da thread\n",
    "\n",
    "De acordo com a sua estratégia de implementação paralela, vocês vão precisar incluir informações diferentes. Algo de importante está faltando na lista acima. Como as threads poderiam armazenar seus resultados?\n",
    "\n",
    "Precisamos escolher uma dentre as várias formas de implementar esse algoritmo paralelo. Pensei em algumas possibilidades:\n",
    "\n",
    "1. Método \"Criando threads dinamicamente\":\n",
    "  - Lançar $n$ threads, cada uma com $1$ (ou $m$?) unidades de trabalho a fazer\n",
    "  - Usar variáveis de condição ou joins para sinalizar fim de trabalho\n",
    "  - Lançar novas threads conforme threads terminarem\n",
    "  - Usar join para finalizar\n",
    "2. Método \"Divisão Dinâmica do Trabalho\":\n",
    "  - Lançar $n$ threads, cada uma com $1$ (ou $m$?) unidades de trabalho a fazer\n",
    "  - Cada thread busca por trabalho disponível a fazer quando acabar o trabalho dado\n",
    "  - Usar join para finalizar\n",
    "3. Método \"Divisão Estática do Trabalho\":\n",
    "  - Lançar $n$ threads, cada uma com $1/n$ unidades de trabalho a fazer\n",
    "  - Usar join para finalizar\n",
    "  \n",
    "Usando seus conhecimentos sobre *pthreads* e sobre a execução de programas em geral, responda e explique:\n",
    "\n",
    "1. Qual desses métodos é o mais difícil de implementar? E o mais fácil?\n",
    "2. Qual método atingiria o menor tempo de execução?"
   ]
  },
  {
   "cell_type": "markdown",
   "metadata": {},
   "source": [
    "**1**. Pela descrição fornecida para cada método, o mais difícil de ser implementado é o método 2, pois sua implementação envolveria resolver possíveis condições de corrida, onde mais de uma thread poderia acabar tentando acessar o mesmo \"trabalho\" a ser feito. Se não for feita corretamente, a implementação desse método pode facilmente resultar em trabalho repetido sendo feito por threads diferentes, o que tornaria a implementação menos eficiente.\n",
    "\n",
    "**2**. O método que atingiria menor tempo de execução seria o método 2, pois não envolve a criação de threads \"extra\" conforme o programa é executado, o que é custoso e pode não ser lucrativo dependendo do número de threads, e garante que threads nunca fiquem _idle_, ou seja, todas as threads estão sempre ocupadas. Esse método se mostra útil quando sabemos que threads podem demorar tempos distintos para finalizar os seus respectivos trabalhos."
   ]
  },
  {
   "cell_type": "markdown",
   "metadata": {},
   "source": [
    "Escolha um desses, ou um quarto método que preferir, para fazer a implementação paralela do miniEP3. Vocês vão precisar implementar toda a estrutura de suporte à execução das threads.\n",
    "\n",
    "Quando terminar, rode as células abaixo. A saída deve conter a estimativa para o valor de $\\pi$ e o tempo de execução, produzidos pelo programa `monte_carlo`. Escolha um número de amostras e de threads adequado à quantidade de memória e aos núcleos de processamento disponíveis em seu computador.\n",
    "\n",
    "Lembre-se de **entregar também o arquivo .c** com suas modificações."
   ]
  },
  {
   "cell_type": "code",
   "execution_count": 9,
   "metadata": {
    "scrolled": false
   },
   "outputs": [
    {
     "name": "stdout",
     "output_type": "stream",
     "text": [
      "gcc monte_carlo.c -o monte_carlo -Wall -lpthread -lm -DDEBUG=1\n"
     ]
    }
   ],
   "source": [
    "; make debug"
   ]
  },
  {
   "cell_type": "code",
   "execution_count": 10,
   "metadata": {
    "scrolled": true
   },
   "outputs": [
    {
     "name": "stdout",
     "output_type": "stream",
     "text": [
      "Running on: [debug mode]\n",
      "Samples: [100000000]\n",
      "Function id: [0]\n",
      "Threads: [32]\n",
      "Array size on memory: [1.60GB]\n",
      "Running parallel version\n",
      "3.1409999667020517, [1.507663, clock], [0.131388, clock_gettime], [0.131385, gettimeofday]\n"
     ]
    }
   ],
   "source": [
    "; ./monte_carlo 100000000 0 32"
   ]
  },
  {
   "cell_type": "markdown",
   "metadata": {},
   "source": [
    "## Exercício 3: Análise de Desempenho\n",
    "\n",
    "Agora, vamos medir o desempenho do programa que vocês implementaram neste trabalho. Vamos usar funções em Julia, adaptadas do miniEP1&2, e gerar gráficos do tempo de execução e da estimativa da integral para diferentes números de threads.\n",
    "\n",
    "### Funções Úteis\n",
    "\n",
    "A função abaixo recebe parâmetros `size`, com tamanho da amostra, `f`, com a id da função a estimar, e `threads`, com o número de threads do programa paralelo. A função executa o programa `monte_carlo` com os parâmetros dados e devolve um `DataFrame` com os resultados."
   ]
  },
  {
   "cell_type": "code",
   "execution_count": 2,
   "metadata": {},
   "outputs": [
    {
     "data": {
      "text/plain": [
       "measure_monte_carlo (generic function with 1 method)"
      ]
     },
     "execution_count": 2,
     "metadata": {},
     "output_type": "execute_result"
    }
   ],
   "source": [
    "using DataFrames, Query, StatsPlots, Statistics\n",
    "\n",
    "function measure_monte_carlo(size, f, threads)\n",
    "    results = parse.(Float64,\n",
    "        split(chomp(read(`./monte_carlo $size $f $threads`, String)), \", \"))\n",
    "        \n",
    "    return DataFrame(size = size,\n",
    "        f = f,\n",
    "        threads = threads,\n",
    "        estimate = results[1],\n",
    "        duration = results[2])\n",
    "end"
   ]
  },
  {
   "cell_type": "markdown",
   "metadata": {},
   "source": [
    "A função `run_experiments` recebe os mesmos parâmetros `size`, `f`, e `threads`, e um parâmetro adicional `repetitions`, com o número de repetições de cada experimento com um dado número de `threads`. A função devolve um `DataFrame` com todos os experimentos."
   ]
  },
  {
   "cell_type": "code",
   "execution_count": 3,
   "metadata": {},
   "outputs": [
    {
     "data": {
      "text/plain": [
       "run_experiments (generic function with 1 method)"
      ]
     },
     "execution_count": 3,
     "metadata": {},
     "output_type": "execute_result"
    }
   ],
   "source": [
    "function run_experiments(size, f, threads, repetitions)\n",
    "    run(`make`)\n",
    "    \n",
    "    results = DataFrame(size = Int[],\n",
    "        f = Int[],\n",
    "        threads = Int[],\n",
    "        estimate = Float64[],\n",
    "        duration = Float64[])  \n",
    "    \n",
    "    for t in threads\n",
    "        for r in 1:repetitions\n",
    "            append!(results,\n",
    "                measure_monte_carlo(size, f, t))    \n",
    "        end\n",
    "    end\n",
    "    \n",
    "    return results\n",
    "end"
   ]
  },
  {
   "cell_type": "markdown",
   "metadata": {},
   "source": [
    "A função `parse_results` recebe um `DataFrame` de resultados, produzido pela função `run_experiments`, e um parâmetro `target_integral`, com o valor da integral a estimar. A função devolve um `DataFrame` com a média e o intervalo de confiança da média a 95% das estimativas e dos tempos de execução, agrupados por número de threads."
   ]
  },
  {
   "cell_type": "code",
   "execution_count": 4,
   "metadata": {},
   "outputs": [
    {
     "data": {
      "text/plain": [
       "parse_results (generic function with 1 method)"
      ]
     },
     "execution_count": 4,
     "metadata": {},
     "output_type": "execute_result"
    }
   ],
   "source": [
    "function parse_results(results, target_integral)\n",
    "    parsed_results = results |>\n",
    "                    @groupby(_.threads) |>\n",
    "                    @map({threads = key(_),\n",
    "                          mean_estimate = mean(_.estimate),\n",
    "                          ci_estimate = 1.96 * std(_.estimate),\n",
    "                          mean_duration = mean(_.duration),\n",
    "                          ci_duration = 1.96 * std(_.duration),\n",
    "                          target = target_integral}) |>\n",
    "                    DataFrame\n",
    "    \n",
    "    return parsed_results\n",
    "end"
   ]
  },
  {
   "cell_type": "markdown",
   "metadata": {},
   "source": [
    "### Exercício 3a)\n",
    "\n",
    "Realize os experimentos em sua máquina rodando a célula abaixo. Ajuste os valores para a sua máquina. **Não faça menos de 5 repetições**."
   ]
  },
  {
   "cell_type": "code",
   "execution_count": 13,
   "metadata": {},
   "outputs": [
    {
     "name": "stdout",
     "output_type": "stream",
     "text": [
      "gcc monte_carlo.c -o monte_carlo -Wall -lpthread -lm\n"
     ]
    },
    {
     "data": {
      "text/html": [
       "<table class=\"data-frame\"><thead><tr><th></th><th>threads</th><th>mean_estimate</th><th>ci_estimate</th><th>mean_duration</th><th>ci_duration</th><th>target</th></tr><tr><th></th><th>Int64</th><th>Float64</th><th>Float64</th><th>Float64</th><th>Float64</th><th>Irration…</th></tr></thead><tbody><p>12 rows × 6 columns</p><tr><th>1</th><td>1</td><td>3.14165</td><td>0.000336228</td><td>1.64427</td><td>0.247762</td><td>π</td></tr><tr><th>2</th><td>2</td><td>3.14148</td><td>0.000640123</td><td>0.773693</td><td>0.00781547</td><td>π</td></tr><tr><th>3</th><td>4</td><td>3.14164</td><td>0.000514953</td><td>0.400546</td><td>0.00868554</td><td>π</td></tr><tr><th>4</th><td>8</td><td>3.14161</td><td>0.000481158</td><td>0.291591</td><td>0.0145529</td><td>π</td></tr><tr><th>5</th><td>16</td><td>3.14155</td><td>0.000740117</td><td>0.279527</td><td>0.00910285</td><td>π</td></tr><tr><th>6</th><td>32</td><td>3.14169</td><td>0.000893014</td><td>0.277486</td><td>0.00669498</td><td>π</td></tr><tr><th>7</th><td>64</td><td>3.14151</td><td>0.000591271</td><td>0.278978</td><td>0.00880073</td><td>π</td></tr><tr><th>8</th><td>128</td><td>3.1416</td><td>0.000728404</td><td>0.274306</td><td>0.00284654</td><td>π</td></tr><tr><th>9</th><td>256</td><td>3.14168</td><td>0.000619459</td><td>0.279498</td><td>0.00614908</td><td>π</td></tr><tr><th>10</th><td>512</td><td>3.14167</td><td>0.000554781</td><td>0.27759</td><td>0.00550707</td><td>π</td></tr><tr><th>11</th><td>1024</td><td>3.14159</td><td>0.000695578</td><td>0.283112</td><td>0.00357345</td><td>π</td></tr><tr><th>12</th><td>2048</td><td>3.14149</td><td>0.000747882</td><td>0.300869</td><td>0.00890676</td><td>π</td></tr></tbody></table>"
      ],
      "text/latex": [
       "\\begin{tabular}{r|cccccc}\n",
       "\t& threads & mean\\_estimate & ci\\_estimate & mean\\_duration & ci\\_duration & target\\\\\n",
       "\t\\hline\n",
       "\t& Int64 & Float64 & Float64 & Float64 & Float64 & Irration…\\\\\n",
       "\t\\hline\n",
       "\t1 & 1 & 3.14165 & 0.000336228 & 1.64427 & 0.247762 & π \\\\\n",
       "\t2 & 2 & 3.14148 & 0.000640123 & 0.773693 & 0.00781547 & π \\\\\n",
       "\t3 & 4 & 3.14164 & 0.000514953 & 0.400546 & 0.00868554 & π \\\\\n",
       "\t4 & 8 & 3.14161 & 0.000481158 & 0.291591 & 0.0145529 & π \\\\\n",
       "\t5 & 16 & 3.14155 & 0.000740117 & 0.279527 & 0.00910285 & π \\\\\n",
       "\t6 & 32 & 3.14169 & 0.000893014 & 0.277486 & 0.00669498 & π \\\\\n",
       "\t7 & 64 & 3.14151 & 0.000591271 & 0.278978 & 0.00880073 & π \\\\\n",
       "\t8 & 128 & 3.1416 & 0.000728404 & 0.274306 & 0.00284654 & π \\\\\n",
       "\t9 & 256 & 3.14168 & 0.000619459 & 0.279498 & 0.00614908 & π \\\\\n",
       "\t10 & 512 & 3.14167 & 0.000554781 & 0.27759 & 0.00550707 & π \\\\\n",
       "\t11 & 1024 & 3.14159 & 0.000695578 & 0.283112 & 0.00357345 & π \\\\\n",
       "\t12 & 2048 & 3.14149 & 0.000747882 & 0.300869 & 0.00890676 & π \\\\\n",
       "\\end{tabular}\n"
      ],
      "text/plain": [
       "12×6 DataFrame. Omitted printing of 1 columns\n",
       "│ Row │ threads │ mean_estimate │ ci_estimate │ mean_duration │ ci_duration │\n",
       "│     │ \u001b[90mInt64\u001b[39m   │ \u001b[90mFloat64\u001b[39m       │ \u001b[90mFloat64\u001b[39m     │ \u001b[90mFloat64\u001b[39m       │ \u001b[90mFloat64\u001b[39m     │\n",
       "├─────┼─────────┼───────────────┼─────────────┼───────────────┼─────────────┤\n",
       "│ 1   │ 1       │ 3.14165       │ 0.000336228 │ 1.64427       │ 0.247762    │\n",
       "│ 2   │ 2       │ 3.14148       │ 0.000640123 │ 0.773693      │ 0.00781547  │\n",
       "│ 3   │ 4       │ 3.14164       │ 0.000514953 │ 0.400546      │ 0.00868554  │\n",
       "│ 4   │ 8       │ 3.14161       │ 0.000481158 │ 0.291591      │ 0.0145529   │\n",
       "│ 5   │ 16      │ 3.14155       │ 0.000740117 │ 0.279527      │ 0.00910285  │\n",
       "│ 6   │ 32      │ 3.14169       │ 0.000893014 │ 0.277486      │ 0.00669498  │\n",
       "│ 7   │ 64      │ 3.14151       │ 0.000591271 │ 0.278978      │ 0.00880073  │\n",
       "│ 8   │ 128     │ 3.1416        │ 0.000728404 │ 0.274306      │ 0.00284654  │\n",
       "│ 9   │ 256     │ 3.14168       │ 0.000619459 │ 0.279498      │ 0.00614908  │\n",
       "│ 10  │ 512     │ 3.14167       │ 0.000554781 │ 0.27759       │ 0.00550707  │\n",
       "│ 11  │ 1024    │ 3.14159       │ 0.000695578 │ 0.283112      │ 0.00357345  │\n",
       "│ 12  │ 2048    │ 3.14149       │ 0.000747882 │ 0.300869      │ 0.00890676  │"
      ]
     },
     "execution_count": 13,
     "metadata": {},
     "output_type": "execute_result"
    }
   ],
   "source": [
    "size = 200000000\n",
    "f = 0\n",
    "threads = [2 ^ x for x in 0:11]\n",
    "repetitions = 10\n",
    "\n",
    "results = run_experiments(size, f, threads, repetitions)\n",
    "parsed_results = parse_results(results, pi)"
   ]
  },
  {
   "cell_type": "markdown",
   "metadata": {},
   "source": [
    "Agora, escreva uma função **em Julia** chamada `save_csv_results`, que recebe um `DataFrame` e um nome de arquivo, e escreve o `DataFrame` em disco, no formato `.csv`, com o nome passado no argumento.\n",
    "\n",
    "Utilize a biblioteca [CSV](https://juliadata.github.io/CSV.jl/stable/), já instalada no ambiente deste notebook."
   ]
  },
  {
   "cell_type": "code",
   "execution_count": 14,
   "metadata": {},
   "outputs": [
    {
     "data": {
      "text/plain": [
       "\"results.csv\""
      ]
     },
     "execution_count": 14,
     "metadata": {},
     "output_type": "execute_result"
    }
   ],
   "source": [
    "using CSV\n",
    "\n",
    "function save_csv_results(results, filename)\n",
    "    filename = filename * \".csv\"\n",
    "    CSV.write(filename, results) \n",
    "end\n",
    "\n",
    "save_csv_results(results, \"results\")"
   ]
  },
  {
   "cell_type": "markdown",
   "metadata": {},
   "source": [
    "Escreva uma função **em Julia** chamada `read_csv_results`, que recebe um nome de arquivo e lê o arquivo correspondente, devolvendo um `DataFrame`."
   ]
  },
  {
   "cell_type": "code",
   "execution_count": 15,
   "metadata": {},
   "outputs": [
    {
     "data": {
      "text/html": [
       "<table class=\"data-frame\"><thead><tr><th></th><th>size</th><th>f</th><th>threads</th><th>estimate</th><th>duration</th></tr><tr><th></th><th>Int64</th><th>Int64</th><th>Int64</th><th>Float64</th><th>Float64</th></tr></thead><tbody><p>120 rows × 5 columns</p><tr><th>1</th><td>200000000</td><td>0</td><td>1</td><td>3.14171</td><td>1.87975</td></tr><tr><th>2</th><td>200000000</td><td>0</td><td>1</td><td>3.14166</td><td>1.55757</td></tr><tr><th>3</th><td>200000000</td><td>0</td><td>1</td><td>3.14191</td><td>1.77031</td></tr><tr><th>4</th><td>200000000</td><td>0</td><td>1</td><td>3.14177</td><td>1.74796</td></tr><tr><th>5</th><td>200000000</td><td>0</td><td>1</td><td>3.1418</td><td>1.54658</td></tr><tr><th>6</th><td>200000000</td><td>0</td><td>1</td><td>3.14166</td><td>1.5445</td></tr><tr><th>7</th><td>200000000</td><td>0</td><td>1</td><td>3.14129</td><td>1.73338</td></tr><tr><th>8</th><td>200000000</td><td>0</td><td>1</td><td>3.14154</td><td>1.5334</td></tr><tr><th>9</th><td>200000000</td><td>0</td><td>1</td><td>3.14165</td><td>1.59462</td></tr><tr><th>10</th><td>200000000</td><td>0</td><td>1</td><td>3.14153</td><td>1.53467</td></tr><tr><th>11</th><td>200000000</td><td>0</td><td>2</td><td>3.14162</td><td>0.774881</td></tr><tr><th>12</th><td>200000000</td><td>0</td><td>2</td><td>3.14135</td><td>0.78224</td></tr><tr><th>13</th><td>200000000</td><td>0</td><td>2</td><td>3.14152</td><td>0.774946</td></tr><tr><th>14</th><td>200000000</td><td>0</td><td>2</td><td>3.14132</td><td>0.775605</td></tr><tr><th>15</th><td>200000000</td><td>0</td><td>2</td><td>3.14213</td><td>0.770052</td></tr><tr><th>16</th><td>200000000</td><td>0</td><td>2</td><td>3.14175</td><td>0.775179</td></tr><tr><th>17</th><td>200000000</td><td>0</td><td>2</td><td>3.14112</td><td>0.774168</td></tr><tr><th>18</th><td>200000000</td><td>0</td><td>2</td><td>3.14158</td><td>0.770609</td></tr><tr><th>19</th><td>200000000</td><td>0</td><td>2</td><td>3.14097</td><td>0.771231</td></tr><tr><th>20</th><td>200000000</td><td>0</td><td>2</td><td>3.1414</td><td>0.768023</td></tr><tr><th>21</th><td>200000000</td><td>0</td><td>4</td><td>3.14182</td><td>0.397675</td></tr><tr><th>22</th><td>200000000</td><td>0</td><td>4</td><td>3.14118</td><td>0.399676</td></tr><tr><th>23</th><td>200000000</td><td>0</td><td>4</td><td>3.14142</td><td>0.410208</td></tr><tr><th>24</th><td>200000000</td><td>0</td><td>4</td><td>3.1415</td><td>0.403562</td></tr><tr><th>25</th><td>200000000</td><td>0</td><td>4</td><td>3.14193</td><td>0.40231</td></tr><tr><th>26</th><td>200000000</td><td>0</td><td>4</td><td>3.14179</td><td>0.399288</td></tr><tr><th>27</th><td>200000000</td><td>0</td><td>4</td><td>3.14137</td><td>0.402459</td></tr><tr><th>28</th><td>200000000</td><td>0</td><td>4</td><td>3.14157</td><td>0.393724</td></tr><tr><th>29</th><td>200000000</td><td>0</td><td>4</td><td>3.1419</td><td>0.398517</td></tr><tr><th>30</th><td>200000000</td><td>0</td><td>4</td><td>3.14189</td><td>0.398041</td></tr><tr><th>&vellip;</th><td>&vellip;</td><td>&vellip;</td><td>&vellip;</td><td>&vellip;</td><td>&vellip;</td></tr></tbody></table>"
      ],
      "text/latex": [
       "\\begin{tabular}{r|ccccc}\n",
       "\t& size & f & threads & estimate & duration\\\\\n",
       "\t\\hline\n",
       "\t& Int64 & Int64 & Int64 & Float64 & Float64\\\\\n",
       "\t\\hline\n",
       "\t1 & 200000000 & 0 & 1 & 3.14171 & 1.87975 \\\\\n",
       "\t2 & 200000000 & 0 & 1 & 3.14166 & 1.55757 \\\\\n",
       "\t3 & 200000000 & 0 & 1 & 3.14191 & 1.77031 \\\\\n",
       "\t4 & 200000000 & 0 & 1 & 3.14177 & 1.74796 \\\\\n",
       "\t5 & 200000000 & 0 & 1 & 3.1418 & 1.54658 \\\\\n",
       "\t6 & 200000000 & 0 & 1 & 3.14166 & 1.5445 \\\\\n",
       "\t7 & 200000000 & 0 & 1 & 3.14129 & 1.73338 \\\\\n",
       "\t8 & 200000000 & 0 & 1 & 3.14154 & 1.5334 \\\\\n",
       "\t9 & 200000000 & 0 & 1 & 3.14165 & 1.59462 \\\\\n",
       "\t10 & 200000000 & 0 & 1 & 3.14153 & 1.53467 \\\\\n",
       "\t11 & 200000000 & 0 & 2 & 3.14162 & 0.774881 \\\\\n",
       "\t12 & 200000000 & 0 & 2 & 3.14135 & 0.78224 \\\\\n",
       "\t13 & 200000000 & 0 & 2 & 3.14152 & 0.774946 \\\\\n",
       "\t14 & 200000000 & 0 & 2 & 3.14132 & 0.775605 \\\\\n",
       "\t15 & 200000000 & 0 & 2 & 3.14213 & 0.770052 \\\\\n",
       "\t16 & 200000000 & 0 & 2 & 3.14175 & 0.775179 \\\\\n",
       "\t17 & 200000000 & 0 & 2 & 3.14112 & 0.774168 \\\\\n",
       "\t18 & 200000000 & 0 & 2 & 3.14158 & 0.770609 \\\\\n",
       "\t19 & 200000000 & 0 & 2 & 3.14097 & 0.771231 \\\\\n",
       "\t20 & 200000000 & 0 & 2 & 3.1414 & 0.768023 \\\\\n",
       "\t21 & 200000000 & 0 & 4 & 3.14182 & 0.397675 \\\\\n",
       "\t22 & 200000000 & 0 & 4 & 3.14118 & 0.399676 \\\\\n",
       "\t23 & 200000000 & 0 & 4 & 3.14142 & 0.410208 \\\\\n",
       "\t24 & 200000000 & 0 & 4 & 3.1415 & 0.403562 \\\\\n",
       "\t25 & 200000000 & 0 & 4 & 3.14193 & 0.40231 \\\\\n",
       "\t26 & 200000000 & 0 & 4 & 3.14179 & 0.399288 \\\\\n",
       "\t27 & 200000000 & 0 & 4 & 3.14137 & 0.402459 \\\\\n",
       "\t28 & 200000000 & 0 & 4 & 3.14157 & 0.393724 \\\\\n",
       "\t29 & 200000000 & 0 & 4 & 3.1419 & 0.398517 \\\\\n",
       "\t30 & 200000000 & 0 & 4 & 3.14189 & 0.398041 \\\\\n",
       "\t$\\dots$ & $\\dots$ & $\\dots$ & $\\dots$ & $\\dots$ & $\\dots$ \\\\\n",
       "\\end{tabular}\n"
      ],
      "text/plain": [
       "120×5 DataFrame\n",
       "│ Row │ size      │ f     │ threads │ estimate │ duration │\n",
       "│     │ \u001b[90mInt64\u001b[39m     │ \u001b[90mInt64\u001b[39m │ \u001b[90mInt64\u001b[39m   │ \u001b[90mFloat64\u001b[39m  │ \u001b[90mFloat64\u001b[39m  │\n",
       "├─────┼───────────┼───────┼─────────┼──────────┼──────────┤\n",
       "│ 1   │ 200000000 │ 0     │ 1       │ 3.14171  │ 1.87975  │\n",
       "│ 2   │ 200000000 │ 0     │ 1       │ 3.14166  │ 1.55757  │\n",
       "│ 3   │ 200000000 │ 0     │ 1       │ 3.14191  │ 1.77031  │\n",
       "│ 4   │ 200000000 │ 0     │ 1       │ 3.14177  │ 1.74796  │\n",
       "│ 5   │ 200000000 │ 0     │ 1       │ 3.1418   │ 1.54658  │\n",
       "│ 6   │ 200000000 │ 0     │ 1       │ 3.14166  │ 1.5445   │\n",
       "│ 7   │ 200000000 │ 0     │ 1       │ 3.14129  │ 1.73338  │\n",
       "│ 8   │ 200000000 │ 0     │ 1       │ 3.14154  │ 1.5334   │\n",
       "│ 9   │ 200000000 │ 0     │ 1       │ 3.14165  │ 1.59462  │\n",
       "│ 10  │ 200000000 │ 0     │ 1       │ 3.14153  │ 1.53467  │\n",
       "⋮\n",
       "│ 110 │ 200000000 │ 0     │ 1024    │ 3.14189  │ 0.281324 │\n",
       "│ 111 │ 200000000 │ 0     │ 2048    │ 3.14085  │ 0.304384 │\n",
       "│ 112 │ 200000000 │ 0     │ 2048    │ 3.14183  │ 0.303861 │\n",
       "│ 113 │ 200000000 │ 0     │ 2048    │ 3.1414   │ 0.301577 │\n",
       "│ 114 │ 200000000 │ 0     │ 2048    │ 3.14109  │ 0.309799 │\n",
       "│ 115 │ 200000000 │ 0     │ 2048    │ 3.1417   │ 0.300689 │\n",
       "│ 116 │ 200000000 │ 0     │ 2048    │ 3.14187  │ 0.298282 │\n",
       "│ 117 │ 200000000 │ 0     │ 2048    │ 3.14202  │ 0.294115 │\n",
       "│ 118 │ 200000000 │ 0     │ 2048    │ 3.14167  │ 0.301465 │\n",
       "│ 119 │ 200000000 │ 0     │ 2048    │ 3.1412   │ 0.295596 │\n",
       "│ 120 │ 200000000 │ 0     │ 2048    │ 3.14128  │ 0.29892  │"
      ]
     },
     "execution_count": 15,
     "metadata": {},
     "output_type": "execute_result"
    }
   ],
   "source": [
    "using CSV\n",
    "\n",
    "function read_csv_results(filename)\n",
    "    return CSV.read(filename)\n",
    "end\n",
    "\n",
    "read_csv_results(\"results.csv\")"
   ]
  },
  {
   "cell_type": "markdown",
   "metadata": {},
   "source": [
    "Salve o DataFrame `results` em disco. **Vocês devem entregar o .csv também**."
   ]
  },
  {
   "cell_type": "markdown",
   "metadata": {},
   "source": [
    "### Exercício 3b)\n",
    "\n",
    "Como vocês já se familiarizaram um pouco com funções para geração de gráficos no miniEP1&2, explique o que faz a função `plot_results` abaixo. Ela é uma generalização das funções usadas no miniEP anterior. Para ajudar, você pode modificar e usar as chamadas de função no **Exercício 3c)**."
   ]
  },
  {
   "cell_type": "markdown",
   "metadata": {},
   "source": []
  },
  {
   "cell_type": "code",
   "execution_count": 8,
   "metadata": {},
   "outputs": [
    {
     "data": {
      "text/plain": [
       "plot_results (generic function with 1 method)"
      ]
     },
     "execution_count": 8,
     "metadata": {},
     "output_type": "execute_result"
    }
   ],
   "source": [
    "pgfplotsx()\n",
    "\n",
    "function plot_results(x, y, target_label, series_label; hline = [], yerror = [], max_thread_power = 10)      \n",
    "    if yerror != []\n",
    "        p = scatter(x,\n",
    "            y,\n",
    "            xaxis = :log2,\n",
    "            xlabel = \"Threads\",\n",
    "            xticks = [2 ^ x for x in 0:max_thread_power],\n",
    "            yerror = yerror,\n",
    "            alpha = 0.6,\n",
    "            labels = series_label,\n",
    "            legend = :topright)\n",
    "    else\n",
    "        p = scatter(x,\n",
    "            y,\n",
    "            xaxis = :log2,\n",
    "            xlabel = \"Threads\",\n",
    "            xticks = [2 ^ x for x in 0:max_thread_power],\n",
    "            alpha = 0.6,\n",
    "            labels = series_label,\n",
    "            legend = :topright)\n",
    "    end\n",
    "    \n",
    "    if hline != []\n",
    "        plot!(x,\n",
    "            hline,\n",
    "            xaxis = :log2,\n",
    "            xlabel = \"Threads\",\n",
    "            xticks = [2 ^ x for x in 0:max_thread_power],\n",
    "            labels = target_label,                             \n",
    "            line = :dash,                    \n",
    "            width = 2.0)\n",
    "    end\n",
    "    \n",
    "    return p\n",
    "end"
   ]
  },
  {
   "cell_type": "markdown",
   "metadata": {},
   "source": [
    "### Exercício 3c)\n",
    "\n",
    "1. Rode as células na seção abaixo e gere os gráficos. **Entregue o notebook com os gráficos gerados**.\n",
    "2. Descreva o comportamento do tempo de execução conforme aumentamos o número de threads, em termos da média e do intervalo de confiança. Nos próximos EPs, vamos aprender a fazer uma *regressão linear* que explique os dados observados usando *coeficientes*.\n",
    "3. Por que você acha que o tempo de execução aumenta conforme aumentamos as threads? Era isso que você esperava?\n",
    "\n",
    "Responda na célula abaixo:"
   ]
  },
  {
   "cell_type": "markdown",
   "metadata": {},
   "source": []
  },
  {
   "cell_type": "markdown",
   "metadata": {},
   "source": [
    "#### Gerando Gráficos"
   ]
  },
  {
   "cell_type": "code",
   "execution_count": 9,
   "metadata": {},
   "outputs": [
    {
     "ename": "PGFPlotsX.MissingExternalProgramError",
     "evalue": "No LaTeX installation found, figures will not be generated. Make sure either pdflatex or lualatex are installed and that the PATH variable is correctly set.",
     "output_type": "error",
     "traceback": [
      "No LaTeX installation found, figures will not be generated. Make sure either pdflatex or lualatex are installed and that the PATH variable is correctly set.",
      "",
      "Stacktrace:",
      " [1] latexengine() at /Users/victormiranda/.julia/packages/PGFPlotsX/C6ahR/src/build.jl:19",
      " [2] show(::Base.GenericIOBuffer{Array{UInt8,1}}, ::MIME{Symbol(\"image/svg+xml\")}, ::PGFPlotsX.TikzDocument) at /Users/victormiranda/.julia/packages/PGFPlotsX/C6ahR/src/tikzdocument.jl:289",
      " [3] _show(::Base.GenericIOBuffer{Array{UInt8,1}}, ::MIME{Symbol(\"image/svg+xml\")}, ::Plots.Plot{Plots.PGFPlotsXBackend}) at /Users/victormiranda/.julia/packages/Plots/8GUYs/src/backends/pgfplotsx.jl:1218",
      " [4] show(::Base.GenericIOBuffer{Array{UInt8,1}}, ::MIME{Symbol(\"image/svg+xml\")}, ::Plots.Plot{Plots.PGFPlotsXBackend}) at /Users/victormiranda/.julia/packages/Plots/8GUYs/src/output.jl:215",
      " [5] sprint(::Function, ::MIME{Symbol(\"image/svg+xml\")}, ::Vararg{Any,N} where N; context::Nothing, sizehint::Int64) at ./strings/io.jl:105",
      " [6] sprint at ./strings/io.jl:101 [inlined]",
      " [7] _ijulia_display_dict(::Plots.Plot{Plots.PGFPlotsXBackend}) at /Users/victormiranda/.julia/packages/Plots/8GUYs/src/ijulia.jl:53",
      " [8] display_dict(::Plots.Plot{Plots.PGFPlotsXBackend}) at /Users/victormiranda/.julia/packages/Plots/8GUYs/src/init.jl:81",
      " [9] #invokelatest#1 at ./essentials.jl:712 [inlined]",
      " [10] invokelatest at ./essentials.jl:711 [inlined]",
      " [11] execute_request(::ZMQ.Socket, ::IJulia.Msg) at /Users/victormiranda/.julia/packages/IJulia/DrVMH/src/execute_request.jl:112",
      " [12] #invokelatest#1 at ./essentials.jl:712 [inlined]",
      " [13] invokelatest at ./essentials.jl:711 [inlined]",
      " [14] eventloop(::ZMQ.Socket) at /Users/victormiranda/.julia/packages/IJulia/DrVMH/src/eventloop.jl:8",
      " [15] (::IJulia.var\"#15#18\")() at ./task.jl:358"
     ]
    }
   ],
   "source": [
    "plot_results(results.threads,\n",
    "    results.duration,    \n",
    "    \"pi\",\n",
    "    \"Duration\",\n",
    "    max_thread_power = 11)"
   ]
  },
  {
   "cell_type": "code",
   "execution_count": 10,
   "metadata": {},
   "outputs": [
    {
     "ename": "PGFPlotsX.MissingExternalProgramError",
     "evalue": "No LaTeX installation found, figures will not be generated. Make sure either pdflatex or lualatex are installed and that the PATH variable is correctly set.",
     "output_type": "error",
     "traceback": [
      "No LaTeX installation found, figures will not be generated. Make sure either pdflatex or lualatex are installed and that the PATH variable is correctly set.",
      "",
      "Stacktrace:",
      " [1] latexengine() at /Users/victormiranda/.julia/packages/PGFPlotsX/C6ahR/src/build.jl:19",
      " [2] show(::Base.GenericIOBuffer{Array{UInt8,1}}, ::MIME{Symbol(\"image/svg+xml\")}, ::PGFPlotsX.TikzDocument) at /Users/victormiranda/.julia/packages/PGFPlotsX/C6ahR/src/tikzdocument.jl:289",
      " [3] _show(::Base.GenericIOBuffer{Array{UInt8,1}}, ::MIME{Symbol(\"image/svg+xml\")}, ::Plots.Plot{Plots.PGFPlotsXBackend}) at /Users/victormiranda/.julia/packages/Plots/8GUYs/src/backends/pgfplotsx.jl:1218",
      " [4] show(::Base.GenericIOBuffer{Array{UInt8,1}}, ::MIME{Symbol(\"image/svg+xml\")}, ::Plots.Plot{Plots.PGFPlotsXBackend}) at /Users/victormiranda/.julia/packages/Plots/8GUYs/src/output.jl:215",
      " [5] sprint(::Function, ::MIME{Symbol(\"image/svg+xml\")}, ::Vararg{Any,N} where N; context::Nothing, sizehint::Int64) at ./strings/io.jl:105",
      " [6] sprint at ./strings/io.jl:101 [inlined]",
      " [7] _ijulia_display_dict(::Plots.Plot{Plots.PGFPlotsXBackend}) at /Users/victormiranda/.julia/packages/Plots/8GUYs/src/ijulia.jl:53",
      " [8] display_dict(::Plots.Plot{Plots.PGFPlotsXBackend}) at /Users/victormiranda/.julia/packages/Plots/8GUYs/src/init.jl:81",
      " [9] #invokelatest#1 at ./essentials.jl:712 [inlined]",
      " [10] invokelatest at ./essentials.jl:711 [inlined]",
      " [11] execute_request(::ZMQ.Socket, ::IJulia.Msg) at /Users/victormiranda/.julia/packages/IJulia/DrVMH/src/execute_request.jl:112",
      " [12] #invokelatest#1 at ./essentials.jl:712 [inlined]",
      " [13] invokelatest at ./essentials.jl:711 [inlined]",
      " [14] eventloop(::ZMQ.Socket) at /Users/victormiranda/.julia/packages/IJulia/DrVMH/src/eventloop.jl:8",
      " [15] (::IJulia.var\"#15#18\")() at ./task.jl:358"
     ]
    }
   ],
   "source": [
    "plot_results(results.threads,\n",
    "    results.estimate,    \n",
    "    \"pi\",\n",
    "    \"Estimate\",\n",
    "    hline = [pi for i in 1:nrow(results)],\n",
    "    max_thread_power = 11)"
   ]
  },
  {
   "cell_type": "code",
   "execution_count": 11,
   "metadata": {},
   "outputs": [
    {
     "ename": "PGFPlotsX.MissingExternalProgramError",
     "evalue": "No LaTeX installation found, figures will not be generated. Make sure either pdflatex or lualatex are installed and that the PATH variable is correctly set.",
     "output_type": "error",
     "traceback": [
      "No LaTeX installation found, figures will not be generated. Make sure either pdflatex or lualatex are installed and that the PATH variable is correctly set.",
      "",
      "Stacktrace:",
      " [1] latexengine() at /Users/victormiranda/.julia/packages/PGFPlotsX/C6ahR/src/build.jl:19",
      " [2] show(::Base.GenericIOBuffer{Array{UInt8,1}}, ::MIME{Symbol(\"image/svg+xml\")}, ::PGFPlotsX.TikzDocument) at /Users/victormiranda/.julia/packages/PGFPlotsX/C6ahR/src/tikzdocument.jl:289",
      " [3] _show(::Base.GenericIOBuffer{Array{UInt8,1}}, ::MIME{Symbol(\"image/svg+xml\")}, ::Plots.Plot{Plots.PGFPlotsXBackend}) at /Users/victormiranda/.julia/packages/Plots/8GUYs/src/backends/pgfplotsx.jl:1218",
      " [4] show(::Base.GenericIOBuffer{Array{UInt8,1}}, ::MIME{Symbol(\"image/svg+xml\")}, ::Plots.Plot{Plots.PGFPlotsXBackend}) at /Users/victormiranda/.julia/packages/Plots/8GUYs/src/output.jl:215",
      " [5] sprint(::Function, ::MIME{Symbol(\"image/svg+xml\")}, ::Vararg{Any,N} where N; context::Nothing, sizehint::Int64) at ./strings/io.jl:105",
      " [6] sprint at ./strings/io.jl:101 [inlined]",
      " [7] _ijulia_display_dict(::Plots.Plot{Plots.PGFPlotsXBackend}) at /Users/victormiranda/.julia/packages/Plots/8GUYs/src/ijulia.jl:53",
      " [8] display_dict(::Plots.Plot{Plots.PGFPlotsXBackend}) at /Users/victormiranda/.julia/packages/Plots/8GUYs/src/init.jl:81",
      " [9] #invokelatest#1 at ./essentials.jl:712 [inlined]",
      " [10] invokelatest at ./essentials.jl:711 [inlined]",
      " [11] execute_request(::ZMQ.Socket, ::IJulia.Msg) at /Users/victormiranda/.julia/packages/IJulia/DrVMH/src/execute_request.jl:112",
      " [12] #invokelatest#1 at ./essentials.jl:712 [inlined]",
      " [13] invokelatest at ./essentials.jl:711 [inlined]",
      " [14] eventloop(::ZMQ.Socket) at /Users/victormiranda/.julia/packages/IJulia/DrVMH/src/eventloop.jl:8",
      " [15] (::IJulia.var\"#15#18\")() at ./task.jl:358"
     ]
    }
   ],
   "source": [
    "plot_results(parsed_results.threads,\n",
    "    parsed_results.mean_duration,\n",
    "    \"pi\",\n",
    "    \"Mean Duration + CI\",\n",
    "    yerror = parsed_results.ci_duration,\n",
    "    max_thread_power = 11)"
   ]
  },
  {
   "cell_type": "code",
   "execution_count": 12,
   "metadata": {},
   "outputs": [
    {
     "ename": "PGFPlotsX.MissingExternalProgramError",
     "evalue": "No LaTeX installation found, figures will not be generated. Make sure either pdflatex or lualatex are installed and that the PATH variable is correctly set.",
     "output_type": "error",
     "traceback": [
      "No LaTeX installation found, figures will not be generated. Make sure either pdflatex or lualatex are installed and that the PATH variable is correctly set.",
      "",
      "Stacktrace:",
      " [1] latexengine() at /Users/victormiranda/.julia/packages/PGFPlotsX/C6ahR/src/build.jl:19",
      " [2] show(::Base.GenericIOBuffer{Array{UInt8,1}}, ::MIME{Symbol(\"image/svg+xml\")}, ::PGFPlotsX.TikzDocument) at /Users/victormiranda/.julia/packages/PGFPlotsX/C6ahR/src/tikzdocument.jl:289",
      " [3] _show(::Base.GenericIOBuffer{Array{UInt8,1}}, ::MIME{Symbol(\"image/svg+xml\")}, ::Plots.Plot{Plots.PGFPlotsXBackend}) at /Users/victormiranda/.julia/packages/Plots/8GUYs/src/backends/pgfplotsx.jl:1218",
      " [4] show(::Base.GenericIOBuffer{Array{UInt8,1}}, ::MIME{Symbol(\"image/svg+xml\")}, ::Plots.Plot{Plots.PGFPlotsXBackend}) at /Users/victormiranda/.julia/packages/Plots/8GUYs/src/output.jl:215",
      " [5] sprint(::Function, ::MIME{Symbol(\"image/svg+xml\")}, ::Vararg{Any,N} where N; context::Nothing, sizehint::Int64) at ./strings/io.jl:105",
      " [6] sprint at ./strings/io.jl:101 [inlined]",
      " [7] _ijulia_display_dict(::Plots.Plot{Plots.PGFPlotsXBackend}) at /Users/victormiranda/.julia/packages/Plots/8GUYs/src/ijulia.jl:53",
      " [8] display_dict(::Plots.Plot{Plots.PGFPlotsXBackend}) at /Users/victormiranda/.julia/packages/Plots/8GUYs/src/init.jl:81",
      " [9] #invokelatest#1 at ./essentials.jl:712 [inlined]",
      " [10] invokelatest at ./essentials.jl:711 [inlined]",
      " [11] execute_request(::ZMQ.Socket, ::IJulia.Msg) at /Users/victormiranda/.julia/packages/IJulia/DrVMH/src/execute_request.jl:112",
      " [12] #invokelatest#1 at ./essentials.jl:712 [inlined]",
      " [13] invokelatest at ./essentials.jl:711 [inlined]",
      " [14] eventloop(::ZMQ.Socket) at /Users/victormiranda/.julia/packages/IJulia/DrVMH/src/eventloop.jl:8",
      " [15] (::IJulia.var\"#15#18\")() at ./task.jl:358"
     ]
    }
   ],
   "source": [
    "plot_results(parsed_results.threads,\n",
    "    parsed_results.mean_estimate,\n",
    "    \"pi\",\n",
    "    \"Mean Estimate + CI\",\n",
    "    hline = [pi for i in 1:nrow(parsed_results)],\n",
    "    yerror = parsed_results.ci_estimate,\n",
    "    max_thread_power = 11)"
   ]
  },
  {
   "cell_type": "code",
   "execution_count": null,
   "metadata": {},
   "outputs": [],
   "source": []
  }
 ],
 "metadata": {
  "kernelspec": {
   "display_name": "Julia 1.4.1",
   "language": "julia",
   "name": "julia-1.4"
  },
  "language_info": {
   "file_extension": ".jl",
   "mimetype": "application/julia",
   "name": "julia",
   "version": "1.4.1"
  }
 },
 "nbformat": 4,
 "nbformat_minor": 2
}
