{
 "cells": [
  {
   "cell_type": "markdown",
   "metadata": {},
   "source": [
    "# MiniEP3 - Aproximação de Integrais usando Médias e Amostragem Uniforme, com a biblioteca *pthreads*\n",
    "\n",
    "## Entrega do miniEP3\n",
    "\n",
    "Preencha o nome dos 5 membros do seu grupo na tabela abaixo:\n",
    "\n",
    "|                Nome              |   NUSP   |\n",
    "|----------------------------------|----------|\n",
    "| Eduardo Freire de Carvalho Lima  | 10262627 |\n",
    "| Kaique Kazuyoshi Komata          | 10297741 |\n",
    "| Lucas Civile Nagamine            |  7083142 |\n",
    "| Victor Hugo Miranda Pinto        | 10297720 |\n",
    "| Yurick Yussuke Honda             | 10258984 |\n",
    "\n",
    "**Apenas um dos membros** deverá entregar um **arquivo .tar**, até o dia **29 de Abril**, com:\n",
    "\n",
    "1. **Este arquivo** `.ipynb`, com as soluções do miniEP3 **feitas pelo grupo**\n",
    "    \n",
    "    - Os gráficos e análises devem poder ser produzidos\n",
    "    \n",
    "    \n",
    "2. O **código C escrito** (arquivo `monte_carlo.c`)\n",
    "\n",
    "    - Deve compilar e executar **sem erros**\n",
    "    \n",
    "    \n",
    "    \n",
    "3. Os arquivos `Makefile`, e `Project.toml`\n",
    "4. Um **arquivo .csv** com os resultados das medições feitas neste miniEP\n",
    "\n",
    "    - Entregue os dados de cada repetição, sem processamento (não calcule a média e CI)\n",
    "\n",
    "## Configuração do Ambiente\n",
    "\n",
    "Como no miniEP1&2, a primeira tarefa é instalar e configurar o ambiente.\n",
    "\n",
    "### Compilador C\n",
    "\n",
    "Neste miniEP também vamos usar a linguagem C e a biblioteca *pthreads*. Vocês vão precisar de acesso a um sistema Linux com o compilador GCC e a biblioteca *pthreads*. Caso não consiga instalar o GCC ou tenha dificuldades para acessar um sistema Linux, entre em contato pelo fórum do *Edisciplinas*.\n",
    "\n",
    "### Julia, Jupyter, IJulia\n",
    "\n",
    "Pule essa etapa se já configurou o ambiente Julia no miniEP1&2.\n",
    "Para fazer o miniEP, vocês vão precisar:\n",
    "\n",
    "- [Instalar o Jupyter Notebook](https://jupyter.readthedocs.io/en/latest/install.html)\n",
    "- Instalar Julia 1.3:\n",
    "    - [Baixando o binário](https://julialang.org/downloads/)\n",
    "    - **ou** [usando seu gerenciador de pacotes](https://julialang.org/downloads/platform/)\n",
    "- Instalar o pacote *IJulia*:\n",
    "    - Inicie o interpretador Julia\n",
    "    - Digite `] add IJulia` e pressione `<ENTER>`\n",
    "    \n",
    "Depois disso, vocês vão conseguir iniciar o arquivo `.ipynb` do miniEP.\n",
    "\n",
    "### Pacotes Julia para o miniEP\n",
    "\n",
    "Os pacotes necessários para o miniEP estão listados no arquivo `Project.toml`, mas vocês podem instalar e atualizar os pacotes rodando a célula abaixo:"
   ]
  },
  {
   "cell_type": "code",
   "execution_count": 4,
   "metadata": {},
   "outputs": [
    {
     "name": "stdout",
     "output_type": "stream",
     "text": [
      "\u001b[32m\u001b[1m  Updating\u001b[22m\u001b[39m registry at `/opt/julia/registries/General`\n",
      "\u001b[32m\u001b[1m  Updating\u001b[22m\u001b[39m git-repo `https://github.com/JuliaRegistries/General.git`\n",
      "\u001b[?25l\u001b[2K\u001b[?25h\u001b[32m\u001b[1m Resolving\u001b[22m\u001b[39m package versions...\n",
      "\u001b[32m\u001b[1m  Updating\u001b[22m\u001b[39m `/mac0219/miniEP3/Project.toml`\n",
      "\u001b[90m [no changes]\u001b[39m\n",
      "\u001b[32m\u001b[1m  Updating\u001b[22m\u001b[39m `/mac0219/miniEP3/Manifest.toml`\n",
      "\u001b[90m [no changes]\u001b[39m\n"
     ]
    }
   ],
   "source": [
    "] up"
   ]
  },
  {
   "cell_type": "markdown",
   "metadata": {},
   "source": [
    "Verifique o status dos pacotes, e se há algum problema, com o comando:"
   ]
  },
  {
   "cell_type": "code",
   "execution_count": 5,
   "metadata": {},
   "outputs": [
    {
     "name": "stdout",
     "output_type": "stream",
     "text": [
      "\u001b[32m\u001b[1m    Status\u001b[22m\u001b[39m `/mac0219/miniEP3/Project.toml`\n",
      " \u001b[90m [336ed68f]\u001b[39m\u001b[37m CSV v0.6.1\u001b[39m\n",
      " \u001b[90m [a93c6f00]\u001b[39m\u001b[37m DataFrames v0.20.2\u001b[39m\n",
      " \u001b[90m [31c24e10]\u001b[39m\u001b[37m Distributions v0.23.2\u001b[39m\n",
      " \u001b[90m [7073ff75]\u001b[39m\u001b[37m IJulia v1.21.2\u001b[39m\n",
      " \u001b[90m [1a8c2f83]\u001b[39m\u001b[37m Query v0.12.2\u001b[39m\n",
      " \u001b[90m [f3b207a7]\u001b[39m\u001b[37m StatsPlots v0.14.5\u001b[39m\n"
     ]
    }
   ],
   "source": [
    "] st"
   ]
  },
  {
   "cell_type": "markdown",
   "metadata": {},
   "source": [
    "## Integração por Método de Monte Carlo\n",
    "\n",
    "O objetivo deste miniEP é promover o estudo de programação paralela usando a biblioteca *pthreads*. Vamos utilizar uma versão sequencial em C do código em Julia do miniEP1&2. A tarefa deste miniEP será completar a implementação em C, escrever um programa paralelo usando a biblioteca *pthreads*, e analisar o desempenho do programa escrito com diferentes números de threads.\n",
    "\n",
    "Lembrando o que vimos no miniEP1&2, a intuição por trás do método de Monte Carlo é que a integral de uma função $f$ pode ser estimada pela média do valor de $f$ num conjunto suficientemente grande de pontos obtidos a partir de uma distribuição uniforme. Mais formalmente, para um conjunto de pontos $x_1,\\dots,x_N$ uniformemente amostrados num intervalo $[a,b]$, a integral de $f$ no intervalo $[a,b]$ pode ser aproximada por:\n",
    "\n",
    "$$\n",
    "\\int_{a}^{b} f(x)dx \\approx \\mathbb{E}\\left[\\left(b - a\\right)\\dfrac{1}{N}\\sum\\limits_{i = 1}^{N}{f(x_i)}\\right] \n",
    "$$\n",
    "\n",
    "Para uma representação gráfica da intuição, e para a prova dessa aproximação, veja [esta página](https://www.scratchapixel.com/lessons/mathematics-physics-for-computer-graphics/monte-carlo-methods-in-practice/monte-carlo-integration).\n",
    "\n",
    "A Integração por Método de Monte Carlo é um problema [embaraçosamente paralelo](https://en.wikipedia.org/wiki/Embarrassingly_parallel), isto é, podemos executar todas as iterações envolvidas **em paralelo**, sem nos preocupar com conflitos de acesso à memória. Apesar disso, vamos ver neste miniEP que não basta apenas aumentar a quantidade de recursos computacionais para ganhar desempenho.\n",
    "\n",
    "### Função Alvo\n",
    "\n",
    "Vamos estimar a integral da seguinte função:\n",
    "\n",
    "$$\n",
    "f_1(x) = \\dfrac{2}{\\sqrt{1 - x ^ 2}}\n",
    "$$\n",
    "\n",
    "A integral da função $f_1$, é [dada por](https://en.wikipedia.org/wiki/List_of_definite_integrals#Definite_integrals_involving_rational_or_irrational_expressions):\n",
    "\n",
    "$$\n",
    "\\int_{0}^{1}{f_1(x)dx} = \\int_{0}^{1}{\\dfrac{2}{\\sqrt{1 - x ^ 2}}dx} = \\pi\n",
    "$$\n",
    "\n",
    "## Exercício 1: Implementação Sequencial em C\n",
    "\n",
    "Lembre-se do código em Julia:"
   ]
  },
  {
   "cell_type": "code",
   "execution_count": 6,
   "metadata": {},
   "outputs": [
    {
     "name": "stderr",
     "output_type": "stream",
     "text": [
      "┌ Info: Precompiling Distributions [31c24e10-a181-5473-b8eb-7969acd0382f]\n",
      "└ @ Base loading.jl:1273\n"
     ]
    },
    {
     "data": {
      "text/plain": [
       "monte_carlo_integrate (generic function with 2 methods)"
      ]
     },
     "execution_count": 6,
     "metadata": {},
     "output_type": "execute_result"
    }
   ],
   "source": [
    "using Distributions\n",
    "\n",
    "function monte_carlo_integrate(f, interval, samples = 100)\n",
    "    xs = rand(Uniform(interval[1], interval[2]), samples)\n",
    "    \n",
    "    # Using for loops:\n",
    "    # accumulator = 0\n",
    "    #\n",
    "    # for x in xs\n",
    "    #     accumulator += f(x)\n",
    "    # end\n",
    "    #\n",
    "    # return accumulator / samples\n",
    "    \n",
    "    # Using vectorized function application:\n",
    "    return sum(f.(xs)) / samples\n",
    "end"
   ]
  },
  {
   "cell_type": "markdown",
   "metadata": {},
   "source": [
    "O primeiro exercício consiste em completar a implementação sequencial em C, fornecida no arquivo `monte_carlo.c`. Baseiem-se na versão Julia, e usem seus editores de código preferidos para modificar e escrever código em C. Se vocês ainda não têm preferência de editor de código, procurem experimentar editores como o Emacs e o Vim. São programas antigos e com uma curva de aprendizado um pouco íngreme, mas são muito poderosos e os esforços se pagam com juros. Esta pode ser uma chance de aprender a usá-los.\n",
    "\n",
    "Vocês devem escrever a função de assinatura:\n",
    "\n",
    "```C\n",
    "long double monte_carlo_integrate(long double (*f)(long double), long double *samples, int size)\n",
    "```\n",
    "\n",
    "Na assinatura acima, o parâmetro `f` é um ponteiro para uma função que recebe um `long double` e devolve um `long double`, `samples` é um ponteiro para um vetor de `long double` onde vamos guardar os valores de `f` que queremos avaliar, e `size` é o tamanho de `samples`.\n",
    "\n",
    "A primeira parte do exercício é ler e compreender o funcionamento do código em C fornecido no enunciado. É um exercício interessante para ver como uma linguagem de alto nível, como Julia, abstrai camadas conceituais e facilita a prototipagem de código complexo ao custo de esconder detalhes de implementação.\n",
    "\n",
    "### Exercício 1a)"
   ]
  },
  {
   "cell_type": "markdown",
   "metadata": {},
   "source": [
    "Vocês podem compilar e executar o programa `monte_carlo.c` através deste notebook acessando o *modo shell* do interpretador Julia com a tecla `;`:"
   ]
  },
  {
   "cell_type": "code",
   "execution_count": 7,
   "metadata": {},
   "outputs": [
    {
     "name": "stdout",
     "output_type": "stream",
     "text": [
      "gcc monte_carlo.c -o monte_carlo -Wall -lpthread -lm -DDEBUG=1\n"
     ]
    },
    {
     "name": "stderr",
     "output_type": "stream",
     "text": [
      "monte_carlo.c: In function ‘main’:\n",
      "monte_carlo.c:97:9: warning: format not a string literal and no format arguments [-Wformat-security]\n",
      "         printf(usage_message);\n",
      "         ^~~~~~\n",
      "monte_carlo.c:101:9: warning: format not a string literal and no format arguments [-Wformat-security]\n",
      "         printf(usage_message);\n",
      "         ^~~~~~\n",
      "monte_carlo.c:105:9: warning: format not a string literal and no format arguments [-Wformat-security]\n",
      "         printf(usage_message);\n",
      "         ^~~~~~\n"
     ]
    }
   ],
   "source": [
    "; make debug"
   ]
  },
  {
   "cell_type": "markdown",
   "metadata": {},
   "source": [
    "Depois, podemos rodar o programa compilado com:"
   ]
  },
  {
   "cell_type": "code",
   "execution_count": 8,
   "metadata": {},
   "outputs": [
    {
     "name": "stdout",
     "output_type": "stream",
     "text": [
      "usage: ./monte_carlo SAMPLES FUNCTION_ID N_THREADS\n"
     ]
    }
   ],
   "source": [
    "; ./monte_carlo"
   ]
  },
  {
   "cell_type": "markdown",
   "metadata": {},
   "source": [
    "Seguindo as instruções de uso, temos:"
   ]
  },
  {
   "cell_type": "code",
   "execution_count": 9,
   "metadata": {},
   "outputs": [
    {
     "name": "stdout",
     "output_type": "stream",
     "text": [
      "Running on: [debug mode]\n",
      "Samples: [10000000]\n",
      "Function id: [0]\n",
      "Threads: [1]\n",
      "Array size on memory: [0.16GB]\n",
      "Running sequential version\n",
      "Estimate: [3.140116252843516892346437119343250]\n",
      "3.1401162528435169, 0.494207\n"
     ]
    }
   ],
   "source": [
    "; ./monte_carlo 10000000 0 1"
   ]
  },
  {
   "cell_type": "markdown",
   "metadata": {},
   "source": [
    "Como compilamos no modo *debug*, veremos muitas mensagens extras, que coloquei no programa pra ajudar na implementação. Para compilar no modo normal, use o comando `make` sem argumentos. Note que o programa ainda não faz nada além de alocar memória, e que isso já leva algum tempo.\n",
    "\n",
    "Note que escolhi deixar a alocação de memória e o cálculo das amostra a avaliar fora da função `monte_carlo_integrate` na versão C. A geração das amostras aleatórias foi feita com a função `rand()` e com uma função que mapeia um intervalo a outro.\n",
    "\n",
    "\n",
    "Descreva abaixo como o tempo de execução é calculado e impresso pelo programa `monte_carlo`. Por que vocês acham que eu escolhi colocar as medições de tempo onde coloquei?"
   ]
  },
  {
   "cell_type": "markdown",
   "metadata": {},
   "source": [
    "O tempo de execução é calculado e impresso por meio dos seguintes passos:\n",
    "\n",
    "1. Atribui-se à variável *start* (do tipo *clock_t*) o valor retornado pela chamada da função *clock()* (que retorna a quantidade de clock ticks passados desde o início da execução do programa);\n",
    "\n",
    "1. Executa-se a função desejada: *monte_carlo_integrate()* ou *monte_carlo_integrate_thread()*;\n",
    "\n",
    "1. Ao fim da execução da função alvo, atribui-se à variável *end* (também do tipo *clock_t*) o valor retornado pela chamada da função *clock()*;\n",
    "\n",
    "1. Calcula-se o número de clock ticks passados entre o início e o fim da execução da função desejada por meio da diferença $end - start$;\n",
    "\n",
    "1. Obtém-se o tempo transcorrido por meio do quociente da diferença supracitada pela constante *CLOCKS_PER_SEC*, que indica a quantidade de clock ticks por segundo. Dessa divisão, resulta o tempo transcorrido em segundos (armazenado na variável *time_taken*, do tipo *double*);\n",
    "\n",
    "1. O *time_taken* obtido é impresso por meio da função *printf()*.\n",
    "\n",
    "As medições de tempo foram colocadas nesses locais porque nosso objetivo é justamente medir e avaliar o tempo gasto na execução das funções *monte_carlo_integrate()* e *monte_carlo_integrate_thread()*, chamando-as com diferentes tamanhos para *size* e (somente na segunda função) *threads*. Portanto, não é útil incluir no cálculo do tempo transcorrido a execução de outros trechos, como alocação de memória e impressões para a saída. Assim, para se obter maior precisão e manter o escopo do cálculo de tempo à execução das funções alvo, as medições são feitas imediatamente antes e imediatamente depois da execução dessa funções (e, no caso de *monte_carlo_integrate_thread()*, inclui-se também o tempo gasto com a implementação da estrutura de suporte à execução das threads)."
   ]
  },
  {
   "cell_type": "markdown",
   "metadata": {},
   "source": [
    "### Exercício 1b)\n",
    "\n",
    "Agora, a sua tarefa é implementar a função `monte_carlo_integrate`.\n",
    "\n",
    "Quando terminar, rode as células abaixo. A saída deve conter a estimativa para o valor de $\\pi$ e o tempo de execução, produzidos pelo programa `monte_carlo`. Escolha um número de amostras adequado à quantidade de memória disponível em seu computador.\n",
    "\n",
    "Lembre-se de **entregar também o arquivo .c** com suas modificações."
   ]
  },
  {
   "cell_type": "code",
   "execution_count": 10,
   "metadata": {
    "scrolled": true
   },
   "outputs": [
    {
     "name": "stdout",
     "output_type": "stream",
     "text": [
      "gcc monte_carlo.c -o monte_carlo -Wall -lpthread -lm -DDEBUG=1\n"
     ]
    },
    {
     "name": "stderr",
     "output_type": "stream",
     "text": [
      "monte_carlo.c: In function ‘main’:\n",
      "monte_carlo.c:97:9: warning: format not a string literal and no format arguments [-Wformat-security]\n",
      "         printf(usage_message);\n",
      "         ^~~~~~\n",
      "monte_carlo.c:101:9: warning: format not a string literal and no format arguments [-Wformat-security]\n",
      "         printf(usage_message);\n",
      "         ^~~~~~\n",
      "monte_carlo.c:105:9: warning: format not a string literal and no format arguments [-Wformat-security]\n",
      "         printf(usage_message);\n",
      "         ^~~~~~\n"
     ]
    }
   ],
   "source": [
    "; make debug"
   ]
  },
  {
   "cell_type": "code",
   "execution_count": 11,
   "metadata": {
    "scrolled": true
   },
   "outputs": [
    {
     "name": "stdout",
     "output_type": "stream",
     "text": [
      "Running on: [debug mode]\n",
      "Samples: [100000000]\n",
      "Function id: [0]\n",
      "Threads: [1]\n",
      "Array size on memory: [1.60GB]\n",
      "Running sequential version\n",
      "Estimate: [3.141538175265578743686548102154177]\n",
      "3.1415381752655787, 5.396442\n"
     ]
    }
   ],
   "source": [
    "; ./monte_carlo 100000000 0 1"
   ]
  },
  {
   "cell_type": "markdown",
   "metadata": {},
   "source": [
    "## Exercício 2: Implementação Paralela com *pthreads*\n",
    "\n",
    "Este exercício é mais complexo. Vocês devem escrever a função de assinatura:\n",
    "\n",
    "```C\n",
    "void *monte_carlo_integrate_thread(void *args)\n",
    "```\n",
    "\n",
    "Na assinatura acima, o parâmetro `args` é um ponteiro para uma estrutura de dados contendo dados para cada thread. Para implementar essa estrutura de dados, vocês devem decidir quais informações cada thread deve receber. Algumas ideias:\n",
    "\n",
    "- Um ponteiro para a função a ser avaliada\n",
    "- Um ponteiro para o vetor de amostras gerado\n",
    "- Um inteiro com o id da thread\n",
    "\n",
    "De acordo com a sua estratégia de implementação paralela, vocês vão precisar incluir informações diferentes. Algo de importante está faltando na lista acima. Como as threads poderiam armazenar seus resultados?\n",
    "\n",
    "Precisamos escolher uma dentre as várias formas de implementar esse algoritmo paralelo. Pensei em algumas possibilidades:\n",
    "\n",
    "1. Método \"Criando threads dinamicamente\":\n",
    "  - Lançar $n$ threads, cada uma com $1$ (ou $m$?) unidades de trabalho a fazer\n",
    "  - Usar variáveis de condição ou joins para sinalizar fim de trabalho\n",
    "  - Lançar novas threads conforme threads terminarem\n",
    "  - Usar join para finalizar\n",
    "2. Método \"Divisão Dinâmica do Trabalho\":\n",
    "  - Lançar $n$ threads, cada uma com $1$ (ou $m$?) unidades de trabalho a fazer\n",
    "  - Cada thread busca por trabalho disponível a fazer quando acabar o trabalho dado\n",
    "  - Usar join para finalizar\n",
    "3. Método \"Divisão Estática do Trabalho\":\n",
    "  - Lançar $n$ threads, cada uma com $1/n$ unidades de trabalho a fazer\n",
    "  - Usar join para finalizar\n",
    "  \n",
    "Usando seus conhecimentos sobre *pthreads* e sobre a execução de programas em geral, responda e explique:\n",
    "\n",
    "1. Qual desses métodos é o mais difícil de implementar? E o mais fácil?\n",
    "2. Qual método atingiria o menor tempo de execução?"
   ]
  },
  {
   "cell_type": "markdown",
   "metadata": {},
   "source": []
  },
  {
   "cell_type": "markdown",
   "metadata": {},
   "source": [
    "Escolha um desses, ou um quarto método que preferir, para fazer a implementação paralela do miniEP3. Vocês vão precisar implementar toda a estrutura de suporte à execução das threads.\n",
    "\n",
    "Quando terminar, rode as células abaixo. A saída deve conter a estimativa para o valor de $\\pi$ e o tempo de execução, produzidos pelo programa `monte_carlo`. Escolha um número de amostras e de threads adequado à quantidade de memória e aos núcleos de processamento disponíveis em seu computador.\n",
    "\n",
    "Lembre-se de **entregar também o arquivo .c** com suas modificações."
   ]
  },
  {
   "cell_type": "code",
   "execution_count": 12,
   "metadata": {
    "scrolled": false
   },
   "outputs": [
    {
     "name": "stdout",
     "output_type": "stream",
     "text": [
      "gcc monte_carlo.c -o monte_carlo -Wall -lpthread -lm -DDEBUG=1\n"
     ]
    },
    {
     "name": "stderr",
     "output_type": "stream",
     "text": [
      "monte_carlo.c: In function ‘main’:\n",
      "monte_carlo.c:97:9: warning: format not a string literal and no format arguments [-Wformat-security]\n",
      "         printf(usage_message);\n",
      "         ^~~~~~\n",
      "monte_carlo.c:101:9: warning: format not a string literal and no format arguments [-Wformat-security]\n",
      "         printf(usage_message);\n",
      "         ^~~~~~\n",
      "monte_carlo.c:105:9: warning: format not a string literal and no format arguments [-Wformat-security]\n",
      "         printf(usage_message);\n",
      "         ^~~~~~\n"
     ]
    }
   ],
   "source": [
    "; make debug"
   ]
  },
  {
   "cell_type": "code",
   "execution_count": 13,
   "metadata": {
    "scrolled": true
   },
   "outputs": [
    {
     "name": "stdout",
     "output_type": "stream",
     "text": [
      "Running on: [debug mode]\n",
      "Samples: [100000000]\n",
      "Function id: [0]\n",
      "Threads: [32]\n",
      "Array size on memory: [1.60GB]\n",
      "Running parallel version\n",
      "Not implemented yet\n"
     ]
    }
   ],
   "source": [
    "; ./monte_carlo 100000000 0 32"
   ]
  },
  {
   "cell_type": "markdown",
   "metadata": {},
   "source": [
    "## Exercício 3: Análise de Desempenho\n",
    "\n",
    "Agora, vamos medir o desempenho do programa que vocês implementaram neste trabalho. Vamos usar funções em Julia, adaptadas do miniEP1&2, e gerar gráficos do tempo de execução e da estimativa da integral para diferentes números de threads.\n",
    "\n",
    "### Funções Úteis\n",
    "\n",
    "A função abaixo recebe parâmetros `size`, com tamanho da amostra, `f`, com a id da função a estimar, e `threads`, com o número de threads do programa paralelo. A função executa o programa `monte_carlo` com os parâmetros dados e devolve um `DataFrame` com os resultados."
   ]
  },
  {
   "cell_type": "code",
   "execution_count": 14,
   "metadata": {},
   "outputs": [
    {
     "name": "stderr",
     "output_type": "stream",
     "text": [
      "┌ Info: Precompiling DataFrames [a93c6f00-e57d-5684-b7b6-d8193f3e46c0]\n",
      "└ @ Base loading.jl:1273\n",
      "┌ Info: Precompiling Query [1a8c2f83-1ff3-5112-b086-8aa67b057ba1]\n",
      "└ @ Base loading.jl:1273\n",
      "┌ Info: Precompiling StatsPlots [f3b207a7-027a-5e70-b257-86293d7955fd]\n",
      "└ @ Base loading.jl:1273\n"
     ]
    },
    {
     "data": {
      "text/plain": [
       "measure_monte_carlo (generic function with 1 method)"
      ]
     },
     "execution_count": 14,
     "metadata": {},
     "output_type": "execute_result"
    }
   ],
   "source": [
    "using DataFrames, Query, StatsPlots\n",
    "\n",
    "function measure_monte_carlo(size, f, threads)\n",
    "    results = parse.(Float64,\n",
    "        split(chomp(read(`./monte_carlo $size $f $threads`, String)), \", \"))\n",
    "        \n",
    "    return DataFrame(size = size,\n",
    "        f = f,\n",
    "        threads = threads,\n",
    "        estimate = results[1],\n",
    "        duration = results[2])\n",
    "end"
   ]
  },
  {
   "cell_type": "markdown",
   "metadata": {},
   "source": [
    "A função `run_experiments` recebe os mesmos parâmetros `size`, `f`, e `threads`, e um parâmetro adicional `repetitions`, com o número de repetições de cada experimento com um dado número de `threads`. A função devolve um `DataFrame` com todos os experimentos."
   ]
  },
  {
   "cell_type": "code",
   "execution_count": 15,
   "metadata": {},
   "outputs": [
    {
     "data": {
      "text/plain": [
       "run_experiments (generic function with 1 method)"
      ]
     },
     "execution_count": 15,
     "metadata": {},
     "output_type": "execute_result"
    }
   ],
   "source": [
    "function run_experiments(size, f, threads, repetitions)\n",
    "    run(`make`)\n",
    "    \n",
    "    results = DataFrame(size = Int[],\n",
    "        f = Int[],\n",
    "        threads = Int[],\n",
    "        estimate = Float64[],\n",
    "        duration = Float64[])  \n",
    "    \n",
    "    for t in threads\n",
    "        for r in 1:repetitions\n",
    "            append!(results,\n",
    "                measure_monte_carlo(size, f, t))    \n",
    "        end\n",
    "    end\n",
    "    \n",
    "    return results\n",
    "end"
   ]
  },
  {
   "cell_type": "markdown",
   "metadata": {},
   "source": [
    "A função `parse_results` recebe um `DataFrame` de resultados, produzido pela função `run_experiments`, e um parâmetro `target_integral`, com o valor da integral a estimar. A função devolve um `DataFrame` com a média e o intervalo de confiança da média a 95% das estimativas e dos tempos de execução, agrupados por número de threads."
   ]
  },
  {
   "cell_type": "code",
   "execution_count": 16,
   "metadata": {},
   "outputs": [
    {
     "data": {
      "text/plain": [
       "parse_results (generic function with 1 method)"
      ]
     },
     "execution_count": 16,
     "metadata": {},
     "output_type": "execute_result"
    }
   ],
   "source": [
    "function parse_results(results, target_integral)\n",
    "    parsed_results = results |>\n",
    "                    @groupby(_.threads) |>\n",
    "                    @map({threads = key(_),\n",
    "                          mean_estimate = mean(_.estimate),\n",
    "                          ci_estimate = 1.96 * std(_.estimate),\n",
    "                          mean_duration = mean(_.duration),\n",
    "                          ci_duration = 1.96 * std(_.duration),\n",
    "                          target = target_integral}) |>\n",
    "                    DataFrame\n",
    "    \n",
    "    return parsed_results\n",
    "end"
   ]
  },
  {
   "cell_type": "markdown",
   "metadata": {},
   "source": [
    "### Exercício 3a)\n",
    "\n",
    "Realize os experimentos em sua máquina rodando a célula abaixo. Ajuste os valores para a sua máquina. **Não faça menos de 5 repetições**."
   ]
  },
  {
   "cell_type": "code",
   "execution_count": 17,
   "metadata": {},
   "outputs": [
    {
     "name": "stdout",
     "output_type": "stream",
     "text": [
      "gcc monte_carlo.c -o monte_carlo -Wall -lpthread -lm\n"
     ]
    },
    {
     "name": "stderr",
     "output_type": "stream",
     "text": [
      "monte_carlo.c: In function ‘main’:\n",
      "monte_carlo.c:97:9: warning: format not a string literal and no format arguments [-Wformat-security]\n",
      "         printf(usage_message);\n",
      "         ^~~~~~\n",
      "monte_carlo.c:101:9: warning: format not a string literal and no format arguments [-Wformat-security]\n",
      "         printf(usage_message);\n",
      "         ^~~~~~\n",
      "monte_carlo.c:105:9: warning: format not a string literal and no format arguments [-Wformat-security]\n",
      "         printf(usage_message);\n",
      "         ^~~~~~\n"
     ]
    },
    {
     "ename": "ProcessFailedException",
     "evalue": "failed process: Process(`./monte_carlo 20000000 0 2`, ProcessExited(255)) [255]\n",
     "output_type": "error",
     "traceback": [
      "failed process: Process(`./monte_carlo 20000000 0 2`, ProcessExited(255)) [255]\n",
      "",
      "Stacktrace:",
      " [1] pipeline_error at ./process.jl:525 [inlined]",
      " [2] read(::Cmd) at ./process.jl:412",
      " [3] read(::Cmd, ::Type{String}) at ./process.jl:421",
      " [4] measure_monte_carlo(::Int64, ::Int64, ::Int64) at ./In[14]:4",
      " [5] run_experiments(::Int64, ::Int64, ::UnitRange{Int64}, ::Int64) at ./In[15]:12",
      " [6] top-level scope at In[17]:5"
     ]
    }
   ],
   "source": [
    "size = 20000000\n",
    "f = 0\n",
    "threads = 1:8\n",
    "repetitions = 10\n",
    "\n",
    "results = run_experiments(size, f, threads, repetitions)\n",
    "parsed_results = parse_results(results, pi)"
   ]
  },
  {
   "cell_type": "markdown",
   "metadata": {},
   "source": [
    "Agora, escreva uma função **em Julia** chamada `save_csv_results`, que recebe um `DataFrame` e um nome de arquivo, e escreve o `DataFrame` em disco, no formato `.csv`, com o nome passado no argumento.\n",
    "\n",
    "Utilize a biblioteca [CSV](https://juliadata.github.io/CSV.jl/stable/), já instalada no ambiente deste notebook."
   ]
  },
  {
   "cell_type": "code",
   "execution_count": 18,
   "metadata": {},
   "outputs": [
    {
     "name": "stderr",
     "output_type": "stream",
     "text": [
      "┌ Info: Precompiling CSV [336ed68f-0bac-5ca0-87d4-7b16caf5d00b]\n",
      "└ @ Base loading.jl:1273\n"
     ]
    },
    {
     "ename": "UndefVarError",
     "evalue": "UndefVarError: results not defined",
     "output_type": "error",
     "traceback": [
      "UndefVarError: results not defined",
      "",
      "Stacktrace:",
      " [1] top-level scope at In[18]:7"
     ]
    }
   ],
   "source": [
    "using CSV\n",
    "\n",
    "function save_csv_results(results, filename)\n",
    "    filename = filename * \"csv\"\n",
    "    CSV.write(filename, results) \n",
    "end\n",
    "\n",
    "save_csv_results(results, \"test_yurick\")"
   ]
  },
  {
   "cell_type": "markdown",
   "metadata": {},
   "source": [
    "Escreva uma função **em Julia** chamada `read_csv_results`, que recebe um nome de arquivo e lê o arquivo correspondente, devolvendo um `DataFrame`."
   ]
  },
  {
   "cell_type": "code",
   "execution_count": null,
   "metadata": {},
   "outputs": [],
   "source": [
    "using CSV\n",
    "\n",
    "function read_csv_results(filename)\n",
    "    return CSV.read(filename)\n",
    "end\n",
    "\n",
    "read_csv_results(\"test_yurick.csv\")"
   ]
  },
  {
   "cell_type": "markdown",
   "metadata": {},
   "source": [
    "Salve o DataFrame `results` em disco. **Vocês devem entregar o .csv também**."
   ]
  },
  {
   "cell_type": "markdown",
   "metadata": {},
   "source": [
    "### Exercício 3b)\n",
    "\n",
    "Como vocês já se familiarizaram um pouco com funções para geração de gráficos no miniEP1&2, explique o que faz a função `plot_results` abaixo. Ela é uma generalização das funções usadas no miniEP anterior. Para ajudar, você pode modificar e usar as chamadas de função no **Exercício 3c)**."
   ]
  },
  {
   "cell_type": "markdown",
   "metadata": {},
   "source": []
  },
  {
   "cell_type": "code",
   "execution_count": null,
   "metadata": {},
   "outputs": [],
   "source": [
    "function plot_results(x, y, target_label, series_label; hline = [], yerror = [])      \n",
    "    if yerror != []\n",
    "        p = scatter(x,        \n",
    "            y,\n",
    "            yerror = yerror,\n",
    "            alpha = 0.6,\n",
    "            labels = series_label,\n",
    "            legend = :topleft)\n",
    "    else\n",
    "        p = scatter(x,        \n",
    "            y,\n",
    "            alpha = 0.6,\n",
    "            labels = series_label,\n",
    "            legend = :topleft)\n",
    "    end\n",
    "    \n",
    "    if hline != []\n",
    "        plot!(x,        \n",
    "            hline,\n",
    "            labels = target_label,                 \n",
    "            line = :dash,        \n",
    "            width = 2.0)\n",
    "    end\n",
    "    \n",
    "    return p\n",
    "end\n"
   ]
  },
  {
   "cell_type": "markdown",
   "metadata": {},
   "source": [
    "### Exercício 3c)\n",
    "\n",
    "1. Rode as células na seção abaixo e gere os gráficos. **Entregue o notebook com os gráficos gerados**.\n",
    "2. Descreva o comportamento do tempo de execução conforme aumentamos o número de threads, em termos da média e do intervalo de confiança. Nos próximos EPs, vamos aprender a fazer uma *regressão linear* que explique os dados observados usando *coeficientes*.\n",
    "3. Por que você acha que o tempo de execução aumenta conforme aumentamos as threads? Era isso que você esperava?\n",
    "\n",
    "Responda na célula abaixo:"
   ]
  },
  {
   "cell_type": "markdown",
   "metadata": {},
   "source": []
  },
  {
   "cell_type": "markdown",
   "metadata": {},
   "source": [
    "#### Gerando Gráficos"
   ]
  },
  {
   "cell_type": "code",
   "execution_count": null,
   "metadata": {},
   "outputs": [],
   "source": [
    "plot_results(results.threads,\n",
    "    results.duration,    \n",
    "    \"pi\",\n",
    "    \"Duration\")"
   ]
  },
  {
   "cell_type": "code",
   "execution_count": null,
   "metadata": {},
   "outputs": [],
   "source": [
    "plot_results(results.threads,\n",
    "    results.estimate,    \n",
    "    \"pi\",\n",
    "    \"Estimate\",\n",
    "    hline = [pi for i in 1:nrow(results)])"
   ]
  },
  {
   "cell_type": "code",
   "execution_count": null,
   "metadata": {},
   "outputs": [],
   "source": [
    "plot_results(parsed_results.threads,\n",
    "    parsed_results.mean_duration,\n",
    "    \"pi\",\n",
    "    \"Mean Duration + CI\",\n",
    "    yerror = parsed_results.ci_duration)"
   ]
  },
  {
   "cell_type": "code",
   "execution_count": null,
   "metadata": {},
   "outputs": [],
   "source": [
    "plot_results(parsed_results.threads,\n",
    "    parsed_results.mean_estimate,\n",
    "    \"pi\",\n",
    "    \"Mean Estimate + CI\",\n",
    "    hline = [pi for i in 1:nrow(parsed_results)],\n",
    "    yerror = parsed_results.ci_estimate)"
   ]
  }
 ],
 "metadata": {
  "kernelspec": {
   "display_name": "Julia 1.3.1",
   "language": "julia",
   "name": "julia-1.3"
  },
  "language_info": {
   "file_extension": ".jl",
   "mimetype": "application/julia",
   "name": "julia",
   "version": "1.3.1"
  }
 },
 "nbformat": 4,
 "nbformat_minor": 2
}
